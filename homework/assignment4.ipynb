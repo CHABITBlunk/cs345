{
 "cells": [
  {
   "cell_type": "markdown",
   "metadata": {},
   "source": [
    "## CS345 Fall 2024 Assignment 4\n"
   ]
  },
  {
   "cell_type": "code",
   "execution_count": 3,
   "metadata": {},
   "outputs": [],
   "source": [
    "import numpy as np\n",
    "from matplotlib import pyplot as plt\n",
    "import pandas as pd\n",
    "from sklearn.model_selection import train_test_split\n",
    "from sklearn.metrics import mean_absolute_error\n",
    "from sklearn.linear_model import Ridge \n",
    "from sklearn.linear_model import ridge_regression "
   ]
  },
  {
   "cell_type": "markdown",
   "metadata": {},
   "source": [
    "## Part 1:  Linear regression on medical insurance data\n",
    "\n",
    "### The data\n",
    "\n",
    "We will work on predicting a person's insurance charges based on a collection of features that include age, gender, body-mass-index (BMI), number of children, whether a person smokes, and the region in the US they live in.\n",
    "Since the file contains string data in addition to numeric data let's first read the file using the Python `requests` module:"
   ]
  },
  {
   "cell_type": "code",
   "execution_count": 4,
   "metadata": {},
   "outputs": [],
   "source": [
    "import requests\n",
    "# if you don't have requests installed you can use urlopen which is part\n",
    "# of the python standard library\n",
    "# from urllib.request import urlopen\n",
    "link = \"https://github.com/asabenhur/CS345/raw/master/fall22/data/insurance.csv\"\n",
    "# retrieve the contents of the file\n",
    "contents = requests.get(link)"
   ]
  },
  {
   "cell_type": "markdown",
   "metadata": {},
   "source": [
    "Let's take a look at the first five rows of the data:"
   ]
  },
  {
   "cell_type": "code",
   "execution_count": 5,
   "metadata": {},
   "outputs": [
    {
     "data": {
      "text/plain": [
       "['age,sex,bmi,children,smoker,region,charges',\n",
       " '19,female,27.9,0,yes,southwest,16884.924',\n",
       " '18,male,33.77,1,no,southeast,1725.5523',\n",
       " '28,male,33,3,no,southeast,4449.462',\n",
       " '33,male,22.705,0,no,northwest,21984.47061']"
      ]
     },
     "execution_count": 5,
     "metadata": {},
     "output_type": "execute_result"
    }
   ],
   "source": [
    "contents.text.split()[:5]"
   ]
  },
  {
   "cell_type": "markdown",
   "metadata": {},
   "source": [
    "As you can see the header specifies the names of the features:\n",
    "\n",
    "```\n",
    "age,sex,bmi,children,smoker,region,charges\n",
    "```\n",
    "\n",
    "The names are self explanatory.  We will use the last column as our label/target variable, and try to predict it from the other variables.\n",
    "\n",
    "Since the data is a mix of numerical and categorical variables, we will need to do some work to create a feature matrix from this file.\n",
    "\n",
    "This data has three types of features:\n",
    "\n",
    "* Numerical data (the age, bmi, and children features)\n",
    "* Categorical data that has one of two values (the sex and smoker features)\n",
    "* Categorical data that has more than two possible values.  The \"region\" feature has the values \"southwest\", \"southeast\", \"northwest\", and \"northeast\".\n",
    "\n",
    "Numerical data can be left as is (but will need to be standardized); binary categorical data can be converted to 0/1.  Categorical variables with more than two possible values require a different approach, which is called \"one-hot-encoding\", where each value receives its own feature, and the single categorical variable is replaced with a set of features.  The number of features equals the number of unique values that the categorical variable takes, and a categorical value is encoded as a vector of zeros, with a single value of one in the feature that corresponds to the given value.  Let us demonstrate this using the one-hot-encoder of scikit-learn on our \"region\" variable which has four possible values:"
   ]
  },
  {
   "cell_type": "code",
   "execution_count": 6,
   "metadata": {},
   "outputs": [
    {
     "data": {
      "text/plain": [
       "array([[0., 0., 0., 1.],\n",
       "       [0., 0., 1., 0.],\n",
       "       [0., 1., 0., 0.],\n",
       "       [1., 0., 0., 0.],\n",
       "       [0., 0., 1., 0.]])"
      ]
     },
     "execution_count": 6,
     "metadata": {},
     "output_type": "execute_result"
    }
   ],
   "source": [
    "from sklearn.preprocessing import OneHotEncoder\n",
    "\n",
    "# a mock dataset of regions:\n",
    "X = [['southwest'], ['southeast'], ['northwest'], ['northeast'], ['southeast']]\n",
    "# create an instance of one hot encoder\n",
    "encoder = OneHotEncoder()\n",
    "# apply it to the data:\n",
    "encoder.fit_transform(X).toarray()\n",
    "# we have converted the output of fit_transform from a sparse array\n",
    "# type to a regular NumPy array so we can easily see the values"
   ]
  },
  {
   "cell_type": "markdown",
   "metadata": {},
   "source": [
    "As you can see, the single variable was represented by four features, one for each possible value.\n",
    "\n",
    "**Note:**  In your code you may not use the scikit-learn one-hot-encoder.\n",
    "\n",
    "You might ask why not simply encode the four region values using the numbers 0-3.  The issue with doing that is that this representation imposes an order on the values, an order that does not necessarily reflect the relationship between these values in the real world."
   ]
  },
  {
   "cell_type": "markdown",
   "metadata": {},
   "source": [
    "### Your tasks\n",
    "\n",
    "Your tasks are as follows:\n",
    "\n",
    "* Create a feature matrix and labels vector from the data as described above.\n",
    "* Split the data into separate train and test sets with 30% of the data reserved for testing.\n",
    "* Evaluate the error of linear regression on the train and test sets.  In doing so, first standardize the features.  Note that not all the features should be standardized - only the age and BMI features need that, because their values are significantly larger than one.  Note that when standardizing, *only the features need to be standardized*.  The labels should remain unaltered.  This dataset can lead to a linear regression solution that suffers from numerical instabilities.  To address that, use the scikit-learn implementation of ridge regression with a very small value of the regularization parameter $\\alpha$.\n",
    "* As discussed in class, the magnitude of the components of the weight vector provide an indication of the usefulness of a feature. Based on the magnitude of the components of the weight vector, choose a subset of the features that are most useful for the regression task (note that large negative values also suggest usefulness).  Compare the error before and after removing the features with the lowest importance based on the weight vector.  Comment on your results.  Were the region features chosen?  If not, hypothesize why that is the case.\n",
    "* As a baseline, compute the error of a naive regression method that for a given regression problem always returns the mean label value.  Compare this error with the error you got using linear regression and comment on the result.  Why is computing the error of this naive method a useful thing to do?\n",
    "\n",
    "For evaluating regression error use mean asbsolute error (MAE)."
   ]
  },
  {
   "cell_type": "code",
   "execution_count": 7,
   "metadata": {},
   "outputs": [
    {
     "name": "stdout",
     "output_type": "stream",
     "text": [
      "mae for all features: 4079.2602\n",
      "mae for selected features: 5515.4269\n",
      "selected region features: ['region_southeast', 'region_southwest', 'region_northwest', 'region_northeast']\n",
      "naive mae: 9167.9570\n"
     ]
    }
   ],
   "source": [
    "df = pd.read_csv(link)\n",
    "df.loc[df['sex'] == 'female', 'sex'] = 0\n",
    "df.loc[df['sex'] == 'male', 'sex'] = 1\n",
    "df.loc[df['smoker'] == 'no', 'smoker'] = 0\n",
    "df.loc[df['smoker'] == 'yes', 'smoker'] = 1\n",
    "y = df['charges']\n",
    "df = df.drop(columns=['charges'])\n",
    "df = pd.get_dummies(df, columns=['region'], dtype=float)\n",
    "X = df\n",
    "\n",
    "X_train, X_test, y_train, y_test = train_test_split(X, y, test_size=0.3, random_state=42)\n",
    "\n",
    "X_test['age'] = (X_test['age'] - X_test['age'].mean()) / X_test['age'].std()\n",
    "X_test['bmi'] = (X_test['bmi'] - X_test['bmi'].mean()) / X_test['bmi'].std()\n",
    "X_train['age'] = (X_train['age'] - X_train['age'].mean()) / X_train['age'].std()\n",
    "X_train['bmi'] = (X_train['bmi'] - X_train['bmi'].mean()) / X_train['bmi'].std()\n",
    "\n",
    "weights = ridge_regression(X, y, alpha=0.00001)\n",
    "\n",
    "feature_names = X.columns\n",
    "abs_weights = np.abs(weights)\n",
    "sorted_indices = np.argsort(abs_weights)[::-1]\n",
    "sorted_features = feature_names[sorted_indices]\n",
    "important_features = sorted_features[:5]\n",
    "\n",
    "X_train_selected = X_train[important_features]\n",
    "X_test_selected = X_test[important_features]\n",
    "\n",
    "ridge = Ridge(alpha=0.00001)\n",
    "ridge.fit(X_train_selected, y_train)\n",
    "y_pred_selected = ridge.predict(X_test_selected)\n",
    "\n",
    "ridge_full = Ridge(alpha=0.00001)\n",
    "ridge_full.fit(X_train, y_train)\n",
    "y_pred_full = ridge_full.predict(X_test)\n",
    "\n",
    "mae_full = mean_absolute_error(y_test, y_pred_full)\n",
    "mae_selected = mean_absolute_error(y_test, y_pred_selected)\n",
    "\n",
    "print(f\"mae for all features: {mae_full:.4f}\")\n",
    "print(f\"mae for selected features: {mae_selected:.4f}\")\n",
    "\n",
    "region_features = [col for col in feature_names if 'region' in col]\n",
    "selected_regions = [feat for feat in important_features if feat in region_features]\n",
    "\n",
    "print(f\"selected region features: {selected_regions}\")\n",
    "\n",
    "\n",
    "y_pred_naive = np.full_like(y_test, y_train.mean())\n",
    "\n",
    "mae_naive = mean_absolute_error(y_test, y_pred_naive)\n",
    "print(f'naive mae: {mae_naive:.4f}')"
   ]
  },
  {
   "cell_type": "markdown",
   "metadata": {},
   "source": [
    "Interestingly, the MAE after selecting features based on relevance was higher. Regions were included, as they had bigger weights than other factors like age, sex, bmi, or children.\n",
    "\n",
    "The ridge regression MAE is much lower than the naive MAE, which suggests that the regression is successfully capturing relationships in the data."
   ]
  },
  {
   "cell_type": "markdown",
   "metadata": {},
   "source": [
    "## Part 2:  polynomial regression\n",
    "\n",
    "In this part we will explore polynomial regression using the [California housing dataset](https://scikit-learn.org/stable/modules/generated/sklearn.datasets.fetch_california_housing.html#sklearn.datasets.fetch_california_housing), which is distributed with scikit-learn."
   ]
  },
  {
   "cell_type": "code",
   "execution_count": 12,
   "metadata": {},
   "outputs": [],
   "source": [
    "from sklearn.datasets import fetch_california_housing\n",
    "data = fetch_california_housing()\n",
    "X = data.data\n",
    "y = data.target"
   ]
  },
  {
   "cell_type": "markdown",
   "metadata": {},
   "source": [
    "A complete description of the dataset and its features is contained in the `DESCR` attribute of the dataset:\n",
    "\n",
    "```python\n",
    "print(data.DESCR)\n",
    "```\n",
    "\n",
    "Let's plot a histogram of the labels:"
   ]
  },
  {
   "cell_type": "code",
   "execution_count": 13,
   "metadata": {},
   "outputs": [
    {
     "data": {
      "text/plain": [
       "(array([   9.,   14.,   61.,  255.,  538.,  676.,  546.,  803.,  881.,\n",
       "         706.,  812.,  715.,  836.,  815.,  921.,  960.,  786.,  817.,\n",
       "         703.,  505.,  620.,  661.,  578.,  508.,  432.,  439.,  463.,\n",
       "         331.,  320.,  216.,  224.,  232.,  245.,  252.,  286.,  193.,\n",
       "         160.,  149.,  117.,  133.,  104.,   99.,   80.,   90.,  106.,\n",
       "          66.,   49.,   51.,   47., 1030.]),\n",
       " array([0.14999  , 0.2469904, 0.3439908, 0.4409912, 0.5379916, 0.634992 ,\n",
       "        0.7319924, 0.8289928, 0.9259932, 1.0229936, 1.119994 , 1.2169944,\n",
       "        1.3139948, 1.4109952, 1.5079956, 1.604996 , 1.7019964, 1.7989968,\n",
       "        1.8959972, 1.9929976, 2.089998 , 2.1869984, 2.2839988, 2.3809992,\n",
       "        2.4779996, 2.575    , 2.6720004, 2.7690008, 2.8660012, 2.9630016,\n",
       "        3.060002 , 3.1570024, 3.2540028, 3.3510032, 3.4480036, 3.545004 ,\n",
       "        3.6420044, 3.7390048, 3.8360052, 3.9330056, 4.030006 , 4.1270064,\n",
       "        4.2240068, 4.3210072, 4.4180076, 4.515008 , 4.6120084, 4.7090088,\n",
       "        4.8060092, 4.9030096, 5.00001  ]),\n",
       " <BarContainer object of 50 artists>)"
      ]
     },
     "execution_count": 13,
     "metadata": {},
     "output_type": "execute_result"
    },
    {
     "data": {
      "image/png": "[encoded data removed]",
      "text/plain": [
       "<Figure size 400x400 with 1 Axes>"
      ]
     },
     "metadata": {},
     "output_type": "display_data"
    }
   ],
   "source": [
    "plt.figure(figsize=(4,4))\n",
    "plt.hist(y, bins=50)"
   ]
  },
  {
   "cell_type": "markdown",
   "metadata": {},
   "source": [
    "Here is your task:\n",
    "\n",
    "* Compute the MAE of polynomial basis regression as a function of the degree of the monomials for the Boston housing dataset.  Start with degree equal to 1, i.e. using the features as-is, and compute the error for monomials with degrees 1 to 6.  In each case compute error for both the training set, and a separate test set.  Report the results as a nicely formatted table and comment on what you observe:  is there overfitting or underfitting?  We recommend using the scikit-learn [PolynomialFeatures](https://scikit-learn.org/stable/modules/generated/sklearn.preprocessing.PolynomialFeatures.html) functionality in conjunction with the [pipeline](https://scikit-learn.org/stable/modules/generated/sklearn.pipeline.Pipeline.html) class as shown in class.  Standardize the data for this task by including standardization as part of the pipeline.  Standardization should be performed before computing the monomials.\n",
    "* For degree four monomials your model should exhibit overfitting.  Our next step is to see whether we can improve the results by employing regularized linear regression, ie. ridge regression.  Plot the error of ridge regression using degree four monomial data as a function of the regularization parameter $\\alpha$ for both the training set and test set.  Is there a value of $\\alpha$ for which you are able to obtain test set error that is similar or better than the error of linear regression on the original data?  Comment on your plot, and describe where you are observing overfitting and underfitting.\n",
    "* As a baseline, compute the error of a naive regression method that for a given regression problem always returns the mean label value.  Compare this error with the error you got using the best performing model and comment on the result.\n"
   ]
  },
  {
   "cell_type": "code",
   "execution_count": 14,
   "metadata": {},
   "outputs": [
    {
     "name": "stdout",
     "output_type": "stream",
     "text": [
      "degree 1: mae 0.5296\n",
      "degree 2: mae 0.4824\n",
      "degree 3: mae 3.0111\n"
     ]
    },
    {
     "name": "stderr",
     "output_type": "stream",
     "text": [
      "/usr/lib/python3.13/site-packages/sklearn/linear_model/_ridge.py:215: LinAlgWarning: Ill-conditioned matrix (rcond=2.02524e-19): result may not be accurate.\n",
      "  return linalg.solve(A, Xy, assume_a=\"pos\", overwrite_a=True).T\n"
     ]
    },
    {
     "name": "stdout",
     "output_type": "stream",
     "text": [
      "degree 4: mae 829.4522\n",
      "degree 5: mae 194182.2941\n",
      "degree 6: mae 386980649.0378\n"
     ]
    },
    {
     "data": {
      "image/png": "[encoded data removed]",
      "text/plain": [
       "<Figure size 640x480 with 1 Axes>"
      ]
     },
     "metadata": {},
     "output_type": "display_data"
    },
    {
     "name": "stderr",
     "output_type": "stream",
     "text": [
      "/usr/lib/python3.13/site-packages/sklearn/linear_model/_ridge.py:215: LinAlgWarning: Ill-conditioned matrix (rcond=1.95571e-19): result may not be accurate.\n",
      "  return linalg.solve(A, Xy, assume_a=\"pos\", overwrite_a=True).T\n"
     ]
    },
    {
     "name": "stdout",
     "output_type": "stream",
     "text": [
      "alpha 0.000001 -> train mae: 0.3611, test mae: 1317.4433\n"
     ]
    },
    {
     "name": "stderr",
     "output_type": "stream",
     "text": [
      "/usr/lib/python3.13/site-packages/sklearn/linear_model/_ridge.py:215: LinAlgWarning: Ill-conditioned matrix (rcond=2.00661e-19): result may not be accurate.\n",
      "  return linalg.solve(A, Xy, assume_a=\"pos\", overwrite_a=True).T\n"
     ]
    },
    {
     "name": "stdout",
     "output_type": "stream",
     "text": [
      "alpha 0.000003 -> train mae: 0.3609, test mae: 1017.7831\n"
     ]
    },
    {
     "name": "stderr",
     "output_type": "stream",
     "text": [
      "/usr/lib/python3.13/site-packages/sklearn/linear_model/_ridge.py:215: LinAlgWarning: Ill-conditioned matrix (rcond=2.01119e-19): result may not be accurate.\n",
      "  return linalg.solve(A, Xy, assume_a=\"pos\", overwrite_a=True).T\n"
     ]
    },
    {
     "name": "stdout",
     "output_type": "stream",
     "text": [
      "alpha 0.000007 -> train mae: 0.3609, test mae: 964.0576\n"
     ]
    },
    {
     "name": "stderr",
     "output_type": "stream",
     "text": [
      "/usr/lib/python3.13/site-packages/sklearn/linear_model/_ridge.py:215: LinAlgWarning: Ill-conditioned matrix (rcond=2.11689e-19): result may not be accurate.\n",
      "  return linalg.solve(A, Xy, assume_a=\"pos\", overwrite_a=True).T\n"
     ]
    },
    {
     "name": "stdout",
     "output_type": "stream",
     "text": [
      "alpha 0.000018 -> train mae: 0.3606, test mae: 310.1733\n"
     ]
    },
    {
     "name": "stderr",
     "output_type": "stream",
     "text": [
      "/usr/lib/python3.13/site-packages/sklearn/linear_model/_ridge.py:215: LinAlgWarning: Ill-conditioned matrix (rcond=2.14032e-19): result may not be accurate.\n",
      "  return linalg.solve(A, Xy, assume_a=\"pos\", overwrite_a=True).T\n"
     ]
    },
    {
     "name": "stdout",
     "output_type": "stream",
     "text": [
      "alpha 0.000048 -> train mae: 0.3607, test mae: 706.5810\n"
     ]
    },
    {
     "name": "stderr",
     "output_type": "stream",
     "text": [
      "/usr/lib/python3.13/site-packages/sklearn/linear_model/_ridge.py:215: LinAlgWarning: Ill-conditioned matrix (rcond=2.25506e-19): result may not be accurate.\n",
      "  return linalg.solve(A, Xy, assume_a=\"pos\", overwrite_a=True).T\n"
     ]
    },
    {
     "name": "stdout",
     "output_type": "stream",
     "text": [
      "alpha 0.000127 -> train mae: 0.3612, test mae: 1718.9599\n"
     ]
    },
    {
     "name": "stderr",
     "output_type": "stream",
     "text": [
      "/usr/lib/python3.13/site-packages/sklearn/linear_model/_ridge.py:215: LinAlgWarning: Ill-conditioned matrix (rcond=2.73055e-19): result may not be accurate.\n",
      "  return linalg.solve(A, Xy, assume_a=\"pos\", overwrite_a=True).T\n"
     ]
    },
    {
     "name": "stdout",
     "output_type": "stream",
     "text": [
      "alpha 0.000336 -> train mae: 0.3618, test mae: 2493.7059\n"
     ]
    },
    {
     "name": "stderr",
     "output_type": "stream",
     "text": [
      "/usr/lib/python3.13/site-packages/sklearn/linear_model/_ridge.py:215: LinAlgWarning: Ill-conditioned matrix (rcond=4.45567e-19): result may not be accurate.\n",
      "  return linalg.solve(A, Xy, assume_a=\"pos\", overwrite_a=True).T\n"
     ]
    },
    {
     "name": "stdout",
     "output_type": "stream",
     "text": [
      "alpha 0.000886 -> train mae: 0.3607, test mae: 785.9517\n"
     ]
    },
    {
     "name": "stderr",
     "output_type": "stream",
     "text": [
      "/usr/lib/python3.13/site-packages/sklearn/linear_model/_ridge.py:215: LinAlgWarning: Ill-conditioned matrix (rcond=1.00454e-18): result may not be accurate.\n",
      "  return linalg.solve(A, Xy, assume_a=\"pos\", overwrite_a=True).T\n"
     ]
    },
    {
     "name": "stdout",
     "output_type": "stream",
     "text": [
      "alpha 0.002336 -> train mae: 0.3603, test mae: 385.8079\n"
     ]
    },
    {
     "name": "stderr",
     "output_type": "stream",
     "text": [
      "/usr/lib/python3.13/site-packages/sklearn/linear_model/_ridge.py:215: LinAlgWarning: Ill-conditioned matrix (rcond=2.21984e-18): result may not be accurate.\n",
      "  return linalg.solve(A, Xy, assume_a=\"pos\", overwrite_a=True).T\n"
     ]
    },
    {
     "name": "stdout",
     "output_type": "stream",
     "text": [
      "alpha 0.006158 -> train mae: 0.3602, test mae: 731.0020\n"
     ]
    },
    {
     "name": "stderr",
     "output_type": "stream",
     "text": [
      "/usr/lib/python3.13/site-packages/sklearn/linear_model/_ridge.py:215: LinAlgWarning: Ill-conditioned matrix (rcond=4.82191e-18): result may not be accurate.\n",
      "  return linalg.solve(A, Xy, assume_a=\"pos\", overwrite_a=True).T\n"
     ]
    },
    {
     "name": "stdout",
     "output_type": "stream",
     "text": [
      "alpha 0.016238 -> train mae: 0.3601, test mae: 1042.8166\n"
     ]
    },
    {
     "name": "stderr",
     "output_type": "stream",
     "text": [
      "/usr/lib/python3.13/site-packages/sklearn/linear_model/_ridge.py:215: LinAlgWarning: Ill-conditioned matrix (rcond=1.28109e-17): result may not be accurate.\n",
      "  return linalg.solve(A, Xy, assume_a=\"pos\", overwrite_a=True).T\n"
     ]
    },
    {
     "name": "stdout",
     "output_type": "stream",
     "text": [
      "alpha 0.042813 -> train mae: 0.3602, test mae: 1005.7590\n"
     ]
    },
    {
     "name": "stderr",
     "output_type": "stream",
     "text": [
      "/usr/lib/python3.13/site-packages/sklearn/linear_model/_ridge.py:215: LinAlgWarning: Ill-conditioned matrix (rcond=2.29957e-17): result may not be accurate.\n",
      "  return linalg.solve(A, Xy, assume_a=\"pos\", overwrite_a=True).T\n"
     ]
    },
    {
     "name": "stdout",
     "output_type": "stream",
     "text": [
      "alpha 0.112884 -> train mae: 0.3611, test mae: 733.8826\n"
     ]
    },
    {
     "name": "stderr",
     "output_type": "stream",
     "text": [
      "/usr/lib/python3.13/site-packages/sklearn/linear_model/_ridge.py:215: LinAlgWarning: Ill-conditioned matrix (rcond=9.23387e-17): result may not be accurate.\n",
      "  return linalg.solve(A, Xy, assume_a=\"pos\", overwrite_a=True).T\n"
     ]
    },
    {
     "name": "stdout",
     "output_type": "stream",
     "text": [
      "alpha 0.297635 -> train mae: 0.3637, test mae: 389.8415\n",
      "alpha 0.784760 -> train mae: 0.3676, test mae: 127.6015\n",
      "alpha 2.069138 -> train mae: 0.3727, test mae: 17.4011\n",
      "alpha 5.455595 -> train mae: 0.3793, test mae: 34.7583\n",
      "alpha 14.384499 -> train mae: 0.3876, test mae: 16.8028\n",
      "alpha 37.926902 -> train mae: 0.3992, test mae: 1.6253\n",
      "alpha 100.000000 -> train mae: 0.4169, test mae: 6.7136\n"
     ]
    },
    {
     "data": {
      "image/png": "[encoded data removed]",
      "text/plain": [
       "<Figure size 800x500 with 1 Axes>"
      ]
     },
     "metadata": {},
     "output_type": "display_data"
    },
    {
     "name": "stdout",
     "output_type": "stream",
     "text": [
      "naive regression mae: 386980649.0378\n",
      "best ridge regression mae: 1.6253 at index 18\n",
      "mae improvement from ridge regression: 386980647.4126\n"
     ]
    }
   ],
   "source": [
    "from sklearn.preprocessing import PolynomialFeatures, StandardScaler\n",
    "from sklearn.pipeline import Pipeline\n",
    "\n",
    "X, y = data.data, data.target\n",
    "\n",
    "X_train, X_test, y_train, y_test = train_test_split(X, y, train_size=0.3, random_state=42)\n",
    "\n",
    "scaler = StandardScaler()\n",
    "X_train = scaler.fit_transform(X_train)\n",
    "X_test = scaler.fit_transform(X_test)\n",
    "\n",
    "degrees = range(1, 7)\n",
    "maes = []\n",
    "\n",
    "for d in degrees:\n",
    "  model = Pipeline([\n",
    "    ('scaler', StandardScaler()),\n",
    "    ('poly', PolynomialFeatures(degree=d, include_bias=False)),\n",
    "    ('ridge', Ridge(alpha=0.00001)) \n",
    "  ]) \n",
    "\n",
    "  model.fit(X_train, y_train) \n",
    "  y_pred = model.predict(X_test) \n",
    "\n",
    "  mae = mean_absolute_error(y_test, y_pred) \n",
    "  maes.append(mae)\n",
    "  print(f'degree {d}: mae {mae:.4f}') \n",
    "\n",
    "plt.plot(degrees, maes, marker='o', linestyle='-') \n",
    "plt.xlabel('degree')\n",
    "plt.ylabel('mae')\n",
    "plt.show()\n",
    "\n",
    "degree = 4\n",
    "alphas = np.logspace(-6, 2, 20)\n",
    "train_maes = []\n",
    "test_maes = []\n",
    "\n",
    "for alpha in alphas:\n",
    "  model = Pipeline([\n",
    "    ('scaler', StandardScaler()),\n",
    "    ('poly', PolynomialFeatures(degree=degree, include_bias=False)),\n",
    "    ('ridge', Ridge(alpha=alpha)) \n",
    "  ])\n",
    "  model.fit(X_train, y_train) \n",
    "\n",
    "  y_train_pred = model.predict(X_train) \n",
    "  y_test_pred = model.predict(X_test) \n",
    "\n",
    "  train_mae = mean_absolute_error(y_train, y_train_pred) \n",
    "  test_mae = mean_absolute_error(y_test, y_test_pred) \n",
    "  train_maes.append(train_mae) \n",
    "  test_maes.append(test_mae) \n",
    "  print(f'alpha {alpha:.6f} -> train mae: {train_mae:.4f}, test mae: {test_mae:.4f}') \n",
    "\n",
    "plt.figure(figsize=(8, 5)) \n",
    "plt.plot(alphas, train_maes, marker='o', linestyle='-', label='train mae')\n",
    "plt.plot(alphas, test_maes, marker='s', linestyle='--', label='test mae')\n",
    "plt.xscale('log')\n",
    "plt.xlabel('alpha (log scale)')\n",
    "plt.ylabel('mae')\n",
    "plt.show()\n",
    "\n",
    "y_naive_pred = np.full_like(y_test, y_train.mean())\n",
    "mae_naive = mean_absolute_error(y_test, y_pred)\n",
    "best_ridge_mae = min(test_maes)\n",
    "print(f'naive regression mae: {mae_naive:.4f}')\n",
    "print(f'best ridge regression mae: {best_ridge_mae:.4f} at index {test_maes.index(best_ridge_mae)}')\n",
    "\n",
    "improvement = mae_naive - best_ridge_mae\n",
    "print(f'mae improvement from ridge regression: {improvement:.4f}')"
   ]
  },
  {
   "cell_type": "markdown",
   "metadata": {},
   "source": [
    "When $\\alpha = 10.5$, there is comparable performance to the linear regression model to the point that it is almost identical.\n",
    "\n",
    "The result from the naive regression model shows that the ridge regression model is significantly more accurate than the naive model at $\\alpha = 10.5$."
   ]
  },
  {
   "cell_type": "markdown",
   "metadata": {},
   "source": [
    "### Part 3:  Use of AI and web resources\n",
    "\n",
    "In the cell below indicate in detail how you used AI and other web resources for this assignment.  If you used AI tools, indicate how useful they were."
   ]
  },
  {
   "cell_type": "markdown",
   "metadata": {},
   "source": [
    "I looked up the documentation for both `ridge_regression` and `Ridge`."
   ]
  },
  {
   "cell_type": "markdown",
   "metadata": {},
   "source": [
    "### Your Report\n",
    "\n",
    "Answer the questions in the cells reserved for that purpose.\n",
    "\n",
    "### Submission\n",
    "\n",
    "Submit your report as a Jupyter notebook via Canvas.  Running the notebook should generate all the plots in your notebook.\n",
    "\n",
    "### Grading \n",
    "\n",
    "\n",
    "```\n",
    "Grading sheet for assignment 4\n",
    "\n",
    "Part 1:  50 points.\n",
    "Dataset creation:  all the features were correctly converted to \n",
    "numerical values and the BMI and age values were standardized (15 pts)\n",
    "Evaluation of linear regression (15 pts)\n",
    "Feature selection based on weight vector magnitude, including discussion of the choice of features (15 pts)\n",
    "Comparison to the basline model and explanation why it is important (5 pts)\n",
    "\n",
    "Part 2:  50 points.\n",
    "Train/test accuracy as a function of the degree of polynomial \n",
    "regression and discussion of results (20 pts)\n",
    "Successful application of ridge regression to prevent overfitting and discussion of results (25 pts)\n",
    "Comparison to the basline model (5 pts)\n",
    "```\n",
    "\n",
    "Grading will be based on the following criteria:\n",
    "\n",
    "  * Code correctness.\n",
    "  * Code is well organized.\n",
    "  * Plots and other results are well formatted and easy to understand.\n",
    "  * Interesting and meaningful observations made where requested."
   ]
  }
 ],
 "metadata": {
  "kernelspec": {
   "display_name": "Python 3",
   "language": "python",
   "name": "python3"
  },
  "language_info": {
   "codemirror_mode": {
    "name": "ipython",
    "version": 3
   },
   "file_extension": ".py",
   "mimetype": "text/x-python",
   "name": "python",
   "nbconvert_exporter": "python",
   "pygments_lexer": "ipython3",
   "version": "3.13.2"
  }
 },
 "nbformat": 4,
 "nbformat_minor": 4
}
