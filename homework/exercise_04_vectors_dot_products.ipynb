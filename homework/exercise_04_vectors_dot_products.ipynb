{
 "cells": [
  {
   "cell_type": "markdown",
   "id": "656e5bfd-ae9a-4bd1-b3b2-983d59c590ad",
   "metadata": {},
   "source": [
    "# CS 345 Exercise 4: vectors and dot products\n",
    "\n",
    "**Instructions:** Complete the exercises in this notebook and submit it via Canvas.\n",
    "\n",
    "In this exercise we will practice some of the concepts related to vectors and dot products."
   ]
  },
  {
   "cell_type": "code",
   "execution_count": 2,
   "id": "4d58ca9e-d38e-466a-b507-5f0fbfff5435",
   "metadata": {},
   "outputs": [],
   "source": [
    "import numpy as np"
   ]
  },
  {
   "cell_type": "markdown",
   "id": "01b9f66b-fdd8-4f22-948f-932f6fe329d4",
   "metadata": {
    "id": "CyqoD7Ipys9H"
   },
   "source": [
    "## Part 1: Unit vectors\n",
    "\n",
    "Recall that a vector with a norm equal to 1 is called a **unit vector**.\n",
    "\n",
    "Given an arbitrary vector $\\mathbf{u}$ it is easy to make it into a unit vector by dividing by its norm, which is called *normalization*.\n"
   ]
  },
  {
   "cell_type": "markdown",
   "id": "a03f0abe-a517-4b99-b665-3f4c0f2c7004",
   "metadata": {},
   "source": [
    "#### question 1\n",
    "\n",
    "Write code for converting a vector, represented as a NumPy array to a unit vector.  Verify that the resulting vector is indeed a unit vector (how?)"
   ]
  },
  {
   "cell_type": "code",
   "execution_count": 6,
   "id": "475ed70a-e7c1-4e69-9192-17568a1dd930",
   "metadata": {
    "executionInfo": {
     "elapsed": 2714,
     "status": "ok",
     "timestamp": 1612286989198,
     "user": {
      "displayName": "Ross Beveridge",
      "photoUrl": "https://lh3.googleusercontent.com/a-/AOh14GhZ9yfcROZXIKThWciv5reom6aDm1Spt-r8JOsVNA=s64",
      "userId": "11748907218223072510"
     },
     "user_tz": 420
    },
    "id": "QEdmTmBRys9H"
   },
   "outputs": [
    {
     "name": "stdout",
     "output_type": "stream",
     "text": [
      "[0.95885702 0.82110389 0.6991876  0.61919987 0.91759807 0.4778374\n",
      " 0.73730169 0.47172494 0.73334124 0.85001728]\n",
      "[0.13159961 0.1126935  0.09596094 0.08498291 0.12593697 0.06558143\n",
      " 0.10119196 0.06474252 0.1006484  0.11666176]\n"
     ]
    }
   ],
   "source": [
    "def normalize(vector):\n",
    "    return vector / np.sqrt(np.sum(vector) ** 2)\n",
    "\n",
    "# verify that the result of normalize is indeed a unit vector\n",
    "v = np.random.rand(10)\n",
    "normalized_v = normalize(v)\n",
    "print(v)\n",
    "print(normalized_v)"
   ]
  },
  {
   "cell_type": "markdown",
   "id": "0d3e96f1-8400-4878-9bbe-eadffe70b4ba",
   "metadata": {},
   "source": [
    "#### question 2\n",
    "\n",
    "Write down an expression for a $d$ dimensional unit vector whose components are all equal.  Demonstrate that it is indeed a unit vector."
   ]
  },
  {
   "cell_type": "markdown",
   "id": "9242ba4d-8897-4c70-93fb-1c2f383ef63d",
   "metadata": {},
   "source": [
    "A unit vector with $d$ dimensions would have to have each component be equal to $ 1 / \\sqrt d $. If you square all the components and add them together, that will result in a magnitude of 1."
   ]
  },
  {
   "cell_type": "markdown",
   "id": "0a5e2548-9ca7-436b-8b39-d8a97e79ad6c",
   "metadata": {
    "id": "wVfWXfMkys9J"
   },
   "source": [
    "## Part 2:  the * operator\n",
    "\n",
    "* We have already seen how the `*` operator functions between a scalar and a vector (one dimensional array) in NumPy.  It also works between vectors.  However, the vectors need to be of the same size.  Your task is to explore what the multiplication operator does when applied between one dimensional arrays, and describe the operation in words."
   ]
  },
  {
   "cell_type": "code",
   "execution_count": null,
   "id": "f72e5d80-ac61-4f0a-aa89-412fd6b15da0",
   "metadata": {
    "executionInfo": {
     "elapsed": 2814,
     "status": "ok",
     "timestamp": 1612286989330,
     "user": {
      "displayName": "Ross Beveridge",
      "photoUrl": "https://lh3.googleusercontent.com/a-/AOh14GhZ9yfcROZXIKThWciv5reom6aDm1Spt-r8JOsVNA=s64",
      "userId": "11748907218223072510"
     },
     "user_tz": 420
    },
    "id": "d8b6XcCZys9J"
   },
   "outputs": [
    {
     "name": "stdout",
     "output_type": "stream",
     "text": [
      "[0.26954927 0.38883402 0.6142965  0.91093474 0.87608197 0.37580879\n",
      " 0.56948346 0.54642079 0.20321485 0.55334875]\n",
      "[0.53909854 0.77766803 1.228593   1.82186947 1.75216393 0.75161758\n",
      " 1.13896693 1.09284158 0.4064297  1.10669751]\n"
     ]
    }
   ],
   "source": [
    "## define two one-dimensional numpy arrays of the same size and \n",
    "## check what is the result of multiplying them using the * operator\n",
    "v = np.random.rand(10)\n",
    "print(v)\n",
    "print(v * 2)"
   ]
  },
  {
   "cell_type": "markdown",
   "id": "11fa3af2-8ebb-4008-b24a-b8d85148e042",
   "metadata": {},
   "source": [
    "Just like in math, if you multiply the vector by a scalar, all the values of the vector will be multiplied by that scalar."
   ]
  },
  {
   "cell_type": "markdown",
   "id": "85a3073f-0cdf-44f2-a52d-cfc544c334ae",
   "metadata": {
    "id": "zOWsLIWyys9K"
   },
   "source": [
    "## Part 3: dot products and angles between vectors\n",
    "\n",
    "### question 1\n",
    "\n",
    "What is the angle between orthogonal vectors?  Explain!\n"
   ]
  },
  {
   "cell_type": "markdown",
   "id": "18fc4a38-447b-4180-b9ea-e3cb6de6b1ea",
   "metadata": {},
   "source": [
    "The angle between orthogonal vectors is a right angle. If you take the dot product of the two vectors, it will evaluate to 0."
   ]
  },
  {
   "cell_type": "markdown",
   "id": "1d02e56f-4945-4539-b1b4-57b79687ffca",
   "metadata": {},
   "source": [
    "### question 2\n",
    "\n",
    "What can you say about the angle between vectors that have positive coefficients?\n"
   ]
  },
  {
   "cell_type": "markdown",
   "id": "50a63653-03a6-43f0-8734-b7ee6fc0edd3",
   "metadata": {},
   "source": [
    "The angle between vectors that have positive components is acute and in quadrant $I$."
   ]
  },
  {
   "cell_type": "markdown",
   "id": "a2883bf2-a843-4635-811e-f21aa9378211",
   "metadata": {},
   "source": [
    "### question 3\n",
    "\n",
    "Express the norm of a vector as a dot product.\n"
   ]
  },
  {
   "cell_type": "markdown",
   "id": "69b65c43-4ae4-4aa1-8393-efb2198ee053",
   "metadata": {},
   "source": [
    "$ \\| \\mathbf{v} \\| = \\sqrt{\\mathbf{v} \\cdot \\mathbf{v}} $"
   ]
  },
  {
   "cell_type": "markdown",
   "id": "57a2c1f1-eb20-4c29-8eb4-b2f88afcdf16",
   "metadata": {},
   "source": [
    "To help you, here is an [animation of the sine and cosine functions](https://www.desmos.com/calculator/cpb0oammx7) that nicely illustrates the geometry these functions."
   ]
  },
  {
   "cell_type": "markdown",
   "id": "c807c9bd-961d-494e-a90f-929d2c65298e",
   "metadata": {},
   "source": [
    "### Part 4:  the cosine between vectors\n"
   ]
  },
  {
   "cell_type": "markdown",
   "id": "3eb693f9-8f86-4992-9740-9c1f52f1117f",
   "metadata": {},
   "source": [
    "Use NumPy to write code that computes the cosine between two vectors with an arbitrary number of dimensions.\n",
    "Use your code to compute the angle between\n",
    "\n",
    "$$\n",
    "\\mathbf{u} = \\begin{pmatrix}\n",
    "1 \\\\ 0 \\\\ -1 \\\\ 2\n",
    "\\end{pmatrix}, \\qquad  \\mathbf{v} = \\begin{pmatrix}\n",
    "3 \\\\ 1 \\\\ 0 \\\\ 1\n",
    "\\end{pmatrix}\n",
    "$$"
   ]
  },
  {
   "cell_type": "code",
   "execution_count": null,
   "id": "416f695e-974c-4c37-8db1-80777ef642f7",
   "metadata": {},
   "outputs": [
    {
     "name": "stdout",
     "output_type": "stream",
     "text": [
      "0.6154574548966637\n"
     ]
    }
   ],
   "source": [
    "def cosine(u, v) :\n",
    "    u_dot_v = np.dot(u, v)\n",
    "    u_dot_v /= np.linalg.norm(u) \n",
    "    u_dot_v /= np.linalg.norm(v) \n",
    "    return u_dot_v\n",
    "u = np.array([1, 0, -1, 2])\n",
    "v = np.array([3, 1, 0, 1])\n",
    "print(cosine(u, v))"
   ]
  }
 ],
 "metadata": {
  "kernelspec": {
   "display_name": "Python 3",
   "language": "python",
   "name": "python3"
  },
  "language_info": {
   "codemirror_mode": {
    "name": "ipython",
    "version": 3
   },
   "file_extension": ".py",
   "mimetype": "text/x-python",
   "name": "python",
   "nbconvert_exporter": "python",
   "pygments_lexer": "ipython3",
   "version": "3.13.1"
  }
 },
 "nbformat": 4,
 "nbformat_minor": 5
}
