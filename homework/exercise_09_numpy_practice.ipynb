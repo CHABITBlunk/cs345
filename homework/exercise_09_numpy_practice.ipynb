{
 "cells": [
  {
   "cell_type": "markdown",
   "metadata": {},
   "source": [
    "## Exercise  09:  NumPy practice\n",
    "\n",
    "The objective of this exercise is to practice your NumPy skills."
   ]
  },
  {
   "cell_type": "code",
   "execution_count": null,
   "metadata": {},
   "outputs": [],
   "source": [
    "import numpy as np"
   ]
  },
  {
   "cell_type": "markdown",
   "metadata": {},
   "source": [
    "### Counting zeros\n",
    "\n",
    "For a 1-d array $x$, we'll define its `number_of_zeros` as the number of elements in the array that are equal to zero.\n",
    "For example, for the array \n",
    "\n",
    "```Python\n",
    "[1, 5, 0, 6, 0, 1]\n",
    "```\n",
    "\n",
    "The `number_of_zeros` is equal to 2.\n",
    "\n",
    "We can apply `number_of_zeros` to a matrix $X$ (i.e. a 2-d array).\n",
    "The definition can be applied either to the columns or rows of the matrix, resulting in an array of `number_of_zeros` values for each column/row.  Your task is to write a function that computes `number_of_zeros` for a 2-d array.  You may not use the NumPy functions count_nonzero, nonzero, and argwhere.\n",
    "\n",
    "For example, for the matrix\n",
    "```Python\n",
    "2 0 3 0\n",
    "0 0 1 5\n",
    "0 0 0 6\n",
    "```\n",
    "\n",
    "when applied to the columns, the result should be an array that contains the numbers\n",
    "\n",
    "```Python\n",
    "2 3 1 1\n",
    "```\n",
    "\n",
    "when applied to the rows the result should be an array that contains the numbers\n",
    "\n",
    "```Python\n",
    "2 2 3\n",
    "```\n",
    "\n",
    "Fill in the following function for computing `number_of_zeros`.  The axis  argument should control whether the operation is performed on columns or rows.\n",
    "\n",
    "In addition to writing the function, write code that tests its correctness, i.e. compares its output to a result you know is correct, returning True/False on whether it matches that correct output."
   ]
  },
  {
   "cell_type": "code",
   "execution_count": 10,
   "metadata": {},
   "outputs": [],
   "source": [
    "def number_of_zeros(X, axis = 0):\n",
    "    pass"
   ]
  },
  {
   "cell_type": "code",
   "execution_count": 11,
   "metadata": {},
   "outputs": [],
   "source": [
    "# test your code here\n",
    "# your testing should verify that the code works correctly, i.e.\n",
    "# will return a True/False on whether it matches a result you know\n",
    "# is correct"
   ]
  },
  {
   "cell_type": "markdown",
   "metadata": {},
   "source": [
    "### Removing sparse columns\n",
    "\n",
    "Write a function that removes sparse columns from a 2-d array.\n",
    "We will define a sparse column as a column that contains mostly zeros, and more specifically, the number of zeros is at least 90% of the entries in the column.  For example, if we apply this to the matrix\n",
    "\n",
    "```Python\n",
    "2 0 3 0\n",
    "0 0 1 5\n",
    "0 0 0 6\n",
    "```\n",
    "\n",
    "The second column would be removed.\n",
    "You can use the `number_of_zeros` function you just wrote to help you in this task.\n",
    "\n",
    "As in the previous problem, you also need to write code to test whether your function works correctly by comparing its output to a case where you know the correct solution."
   ]
  },
  {
   "cell_type": "code",
   "execution_count": 12,
   "metadata": {},
   "outputs": [],
   "source": [
    "def remove_sparse_columns(X):\n",
    "    pass"
   ]
  },
  {
   "cell_type": "code",
   "execution_count": null,
   "metadata": {},
   "outputs": [],
   "source": [
    "# test your code here\n",
    "# your testing should verify that the code works correctly, i.e.\n",
    "# will return a True/False on whether it matches a result you know\n",
    "# is correct"
   ]
  },
  {
   "cell_type": "markdown",
   "metadata": {},
   "source": [
    "### Replacing NaN's with zeros\n",
    "\n",
    "You are given a feature matrix that has some NaN values.  Write a function that creates a new matrix in which all the NaN values are replaced with zeros.\n"
   ]
  },
  {
   "cell_type": "code",
   "execution_count": null,
   "metadata": {},
   "outputs": [],
   "source": [
    "# your code here"
   ]
  },
  {
   "cell_type": "code",
   "execution_count": null,
   "metadata": {},
   "outputs": [],
   "source": [
    "# write code that verifies that there are no NaN values in the matrix\n",
    "# returned by your function"
   ]
  }
 ],
 "metadata": {
  "kernelspec": {
   "display_name": "Python 3 (ipykernel)",
   "language": "python",
   "name": "python3"
  },
  "language_info": {
   "codemirror_mode": {
    "name": "ipython",
    "version": 3
   },
   "file_extension": ".py",
   "mimetype": "text/x-python",
   "name": "python",
   "nbconvert_exporter": "python",
   "pygments_lexer": "ipython3",
   "version": "3.11.7"
  }
 },
 "nbformat": 4,
 "nbformat_minor": 4
}
