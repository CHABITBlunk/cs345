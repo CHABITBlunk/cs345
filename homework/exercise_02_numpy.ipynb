{
 "cells": [
  {
   "cell_type": "markdown",
   "metadata": {},
   "source": [
    "# CS 345 Exercise 02:  NumPy\n",
    "\n",
    "Solve the following exercises and submit the notebook via Canvas.\n",
    "\n",
    "Everything you need for solving these exercises is contained in the [introduction to NumPy](https://github.com/asabenhur/CS345/blob/master/fall24/notebooks/module00_03_numpy.ipynb) notebook from the course github repository."
   ]
  },
  {
   "cell_type": "code",
   "execution_count": 2,
   "metadata": {},
   "outputs": [],
   "source": [
    "import numpy as np"
   ]
  },
  {
   "cell_type": "markdown",
   "metadata": {},
   "source": [
    "### NaN and infinity\n",
    "\n",
    "NumPy (and other computer languages/libraries) have a special value called `NaN` ([Not a Number](https://en.wikipedia.org/wiki/NaN)).\n",
    "NaN is the result of various arithmetic operations, e.g. 0/0, $-\\infty + \\infty$.\n",
    "\n",
    "In NumPy, NaN is represented as `np.nan`.  NaN satisfies the following properties:\n",
    "\n",
    "* Comparisons of NaN with a number x using one of the operators =, <, >, >=, and <= is always False.  Consequently, x != NaN is always True.\n",
    "\n",
    "* Any arithmetic operation involving a NaN leads to a NaN \n",
    "\n",
    "Infinity is represented using `np.inf`, and negative infinity is `-np.inf`.\n",
    "\n",
    "* Experiment with NaN and infinity and convince yourself that the results of the following operations make sense to you:\n",
    "\n",
    "```Pytnon\n",
    "0 * np.nan\n",
    "np.nan == np.nan\n",
    "np.inf > np.nan\n",
    "np.nan - 1\n",
    "```"
   ]
  },
  {
   "cell_type": "code",
   "execution_count": 3,
   "metadata": {},
   "outputs": [
    {
     "name": "stdout",
     "output_type": "stream",
     "text": [
      "nan\n",
      "False\n",
      "False\n"
     ]
    },
    {
     "data": {
      "text/plain": [
       "nan"
      ]
     },
     "execution_count": 3,
     "metadata": {},
     "output_type": "execute_result"
    }
   ],
   "source": [
    "print(0 * np.nan)\n",
    "print(np.nan == np.nan)\n",
    "print(np.inf > np.nan)\n",
    "np.nan - 1"
   ]
  },
  {
   "cell_type": "markdown",
   "metadata": {},
   "source": [
    "### Creating arrays"
   ]
  },
  {
   "cell_type": "markdown",
   "metadata": {},
   "source": [
    "* Create a 3x3 matrix with the integer values from 0 to 8.  We recommend doing this by creating a one dimensional array and converting it to a two dimensional array using the [reshape](https://numpy.org/doc/stable/reference/generated/numpy.reshape.html) function.  Please do not solve this by brute force!"
   ]
  },
  {
   "cell_type": "code",
   "execution_count": 7,
   "metadata": {},
   "outputs": [
    {
     "data": {
      "text/plain": [
       "array([[0, 1, 2],\n",
       "       [3, 4, 5],\n",
       "       [6, 7, 8]])"
      ]
     },
     "execution_count": 7,
     "metadata": {},
     "output_type": "execute_result"
    }
   ],
   "source": [
    "matrix = range(9)\n",
    "matrix = np.reshape(matrix, [3, 3])\n",
    "matrix"
   ]
  },
  {
   "cell_type": "markdown",
   "metadata": {},
   "source": [
    "* Create the same 3x3 matrix and have the end result be a floating point array with a dtype `float64`."
   ]
  },
  {
   "cell_type": "code",
   "execution_count": 9,
   "metadata": {},
   "outputs": [
    {
     "data": {
      "text/plain": [
       "array([[0., 1., 2.],\n",
       "       [3., 4., 5.],\n",
       "       [6., 7., 8.]])"
      ]
     },
     "execution_count": 9,
     "metadata": {},
     "output_type": "execute_result"
    }
   ],
   "source": [
    "matrix = [float(val) for val in range(9)]\n",
    "matrix = np.reshape(matrix, [3, 3])\n",
    "matrix"
   ]
  },
  {
   "cell_type": "markdown",
   "metadata": {},
   "source": [
    "* Create a vector (i.e. one dimensional array) of length 10 with random floating point values between 0 and 1."
   ]
  },
  {
   "cell_type": "code",
   "execution_count": 12,
   "metadata": {},
   "outputs": [
    {
     "data": {
      "text/plain": [
       "[0.5657867016136365,\n",
       " 0.38147506003206755,\n",
       " 0.22442045505412522,\n",
       " 0.29951795881877685,\n",
       " 0.2524670289721165,\n",
       " 0.3298893131543479,\n",
       " 0.573677141452945,\n",
       " 0.2152757459567517,\n",
       " 0.31657825986887667,\n",
       " 0.9964246577847181]"
      ]
     },
     "execution_count": 12,
     "metadata": {},
     "output_type": "execute_result"
    }
   ],
   "source": [
    "vec = [np.random.rand() for v in range(10)]\n",
    "vec"
   ]
  },
  {
   "cell_type": "markdown",
   "metadata": {},
   "source": [
    "* Create a 10x10 array with 1 on the border and 0 inside."
   ]
  },
  {
   "cell_type": "code",
   "execution_count": 13,
   "metadata": {},
   "outputs": [
    {
     "data": {
      "text/plain": [
       "array([[1., 1., 1., 1., 1., 1., 1., 1., 1., 1.],\n",
       "       [1., 0., 0., 0., 0., 0., 0., 0., 0., 1.],\n",
       "       [1., 0., 0., 0., 0., 0., 0., 0., 0., 1.],\n",
       "       [1., 0., 0., 0., 0., 0., 0., 0., 0., 1.],\n",
       "       [1., 0., 0., 0., 0., 0., 0., 0., 0., 1.],\n",
       "       [1., 0., 0., 0., 0., 0., 0., 0., 0., 1.],\n",
       "       [1., 0., 0., 0., 0., 0., 0., 0., 0., 1.],\n",
       "       [1., 0., 0., 0., 0., 0., 0., 0., 0., 1.],\n",
       "       [1., 0., 0., 0., 0., 0., 0., 0., 0., 1.],\n",
       "       [1., 1., 1., 1., 1., 1., 1., 1., 1., 1.]])"
      ]
     },
     "execution_count": 13,
     "metadata": {},
     "output_type": "execute_result"
    }
   ],
   "source": [
    "matrix = np.ones((10, 10))\n",
    "matrix[1:-1, 1:-1] = 0\n",
    "matrix"
   ]
  },
  {
   "cell_type": "markdown",
   "metadata": {},
   "source": [
    "* For an integer $n$, create an array of length $3n$ filled with the cyclic pattern 1, 2, 3.  For example, for $n=2$, the resulting array should be ```[1,2,3,1,2,3]```.  Hint:  slices!"
   ]
  },
  {
   "cell_type": "code",
   "execution_count": 19,
   "metadata": {},
   "outputs": [
    {
     "data": {
      "text/plain": [
       "array([1, 2, 3, 1, 2, 3, 1, 2, 3, 1, 2, 3, 1, 2, 3])"
      ]
     },
     "execution_count": 19,
     "metadata": {},
     "output_type": "execute_result"
    }
   ],
   "source": [
    "n = 5\n",
    "# replace with a correct implementation\n",
    "pattern = np.array([1,2,3])\n",
    "result = np.tile(pattern, n)\n",
    "result"
   ]
  },
  {
   "cell_type": "markdown",
   "metadata": {},
   "source": [
    "### Slices\n",
    "\n",
    "Describe the effect of each of the following slices of the following two-dimensional array, i.e. matrix:\n",
    "\n",
    "```Python\n",
    "a2d = np.array([[1, 2, 3], [4, 5, 6], [7, 8, 9]])\n",
    "```\n",
    "\n",
    "Describe it in terms of rows and columns of the matrix.  As an example consider the following slice:"
   ]
  },
  {
   "cell_type": "markdown",
   "metadata": {},
   "source": [
    "Slice 1:\n",
    "```Python\n",
    "a2d[0]\n",
    "```"
   ]
  },
  {
   "cell_type": "markdown",
   "metadata": {},
   "source": [
    "*answer:  the first row of the matrix*  \n",
    "\n",
    "This is an example to illustrate what we are looking for."
   ]
  },
  {
   "cell_type": "markdown",
   "metadata": {},
   "source": [
    "Slice 2:\n",
    "```Python\n",
    "a2d[1, :2]\n",
    "```"
   ]
  },
  {
   "cell_type": "markdown",
   "metadata": {},
   "source": [
    "the first two values of the second row of the matrix"
   ]
  },
  {
   "cell_type": "markdown",
   "metadata": {},
   "source": [
    "Slice 3:\n",
    "```Python\n",
    "a2d[:, -1]\n",
    "```"
   ]
  },
  {
   "cell_type": "markdown",
   "metadata": {},
   "source": [
    "the last column of the matrix"
   ]
  },
  {
   "cell_type": "markdown",
   "metadata": {},
   "source": [
    "Slice 4:\n",
    "```Python\n",
    "a2d[:, 1:]\n",
    "```"
   ]
  },
  {
   "cell_type": "markdown",
   "metadata": {},
   "source": [
    "the last two columns of the matrix"
   ]
  },
  {
   "cell_type": "markdown",
   "metadata": {},
   "source": [
    "Slice 5:\n",
    "```Python\n",
    "a2d[:,:]\n",
    "```"
   ]
  },
  {
   "cell_type": "markdown",
   "metadata": {},
   "source": [
    "the whole matrix"
   ]
  },
  {
   "cell_type": "markdown",
   "metadata": {},
   "source": [
    "### Using NumPy Boolean arrays\n",
    "\n",
    "* Replace all negative elements of the following array with the value 0.  This can be done with a single command! (Hint:  Boolean indexing)."
   ]
  },
  {
   "cell_type": "code",
   "execution_count": 24,
   "metadata": {},
   "outputs": [
    {
     "data": {
      "text/plain": [
       "array([0, 3, 0, 0, 5, 6, 0])"
      ]
     },
     "execution_count": 24,
     "metadata": {},
     "output_type": "execute_result"
    }
   ],
   "source": [
    "a = np.array([-1, 3, -2, -3, 5, 6, -2])\n",
    "# your code here\n",
    "a[a < 0] = 0\n",
    "a"
   ]
  },
  {
   "cell_type": "markdown",
   "metadata": {},
   "source": [
    "* Write a command that replaces all NaN values with 0 in the following array.  Use [np.isnan](https://numpy.org/doc/stable/reference/generated/numpy.isnan.html) with Boolean indexing."
   ]
  },
  {
   "cell_type": "code",
   "execution_count": 25,
   "metadata": {},
   "outputs": [
    {
     "data": {
      "text/plain": [
       "array([1., 2., 3., 0., 5., 6., 7., 0.])"
      ]
     },
     "execution_count": 25,
     "metadata": {},
     "output_type": "execute_result"
    }
   ],
   "source": [
    "a = np.array([1,2,3,np.nan,5,6,7,np.nan])\n",
    "# your code here\n",
    "a[np.isnan(a)] = 0\n",
    "a"
   ]
  },
  {
   "cell_type": "markdown",
   "metadata": {},
   "source": [
    "### Computing data statistics\n",
    "\n",
    "* Given the two dimensional array below, write code to compute the mean value of each column and display the result.  *Do not use for loops!*  Instead, use the `axis` keyword of `np.mean`."
   ]
  },
  {
   "cell_type": "code",
   "execution_count": 26,
   "metadata": {},
   "outputs": [
    {
     "data": {
      "text/plain": [
       "array([10.54666667,  9.73666667, 14.13      , 10.41333333, 13.10166667])"
      ]
     },
     "execution_count": 26,
     "metadata": {},
     "output_type": "execute_result"
    }
   ],
   "source": [
    "# computing column means of a 2d array.  You can use the following\n",
    "# array as input.  Keep in mind that the result needs to be an array\n",
    "# with 5 elements (same as the number of columns of the array)\n",
    "\n",
    "a = np.array([[17.53, 18.55, 18.18, 10.8 , 10.08],\n",
    "       [ 6.64, 15.78, 14.51, 12.4 , 14.6 ],\n",
    "       [14.67,  2.02, 10.34,  3.79,  6.73],\n",
    "       [12.61,  5.4 , 19.07, 13.76, 15.39],\n",
    "       [ 1.82,  7.79,  5.41, 20.  , 18.17],\n",
    "       [10.01,  8.88, 17.27,  1.73, 13.64]])\n",
    "\n",
    "# your code below\n",
    "np.mean(a, axis=0)"
   ]
  },
  {
   "cell_type": "markdown",
   "metadata": {},
   "source": [
    "### A slicing challenge\n",
    "\n",
    "Here's a more challenging exercise that you can solve using slices:\n",
    "\n",
    "* Create a 8x8 matrix that looks like this:\n",
    "\n",
    "```Python\n",
    "[[0 1 0 1 0 1 0 1]                                                      \n",
    " [1 0 1 0 1 0 1 0]                                                      \n",
    " [0 1 0 1 0 1 0 1]                                                      \n",
    " [1 0 1 0 1 0 1 0]                                                      \n",
    " [0 1 0 1 0 1 0 1]                                                      \n",
    " [1 0 1 0 1 0 1 0]                                                      \n",
    " [0 1 0 1 0 1 0 1]                                                      \n",
    " [1 0 1 0 1 0 1 0]]\n",
    "```\n",
    "\n",
    "Hint:  even and odd numbered rows each are filled with the same pattern.\n"
   ]
  },
  {
   "cell_type": "code",
   "execution_count": 33,
   "metadata": {},
   "outputs": [
    {
     "data": {
      "text/plain": [
       "array([[0., 1., 0., 1., 0., 1., 0., 1.],\n",
       "       [1., 0., 1., 0., 1., 0., 1., 0.],\n",
       "       [0., 1., 0., 1., 0., 1., 0., 1.],\n",
       "       [1., 0., 1., 0., 1., 0., 1., 0.],\n",
       "       [0., 1., 0., 1., 0., 1., 0., 1.],\n",
       "       [1., 0., 1., 0., 1., 0., 1., 0.],\n",
       "       [0., 1., 0., 1., 0., 1., 0., 1.],\n",
       "       [1., 0., 1., 0., 1., 0., 1., 0.]])"
      ]
     },
     "execution_count": 33,
     "metadata": {},
     "output_type": "execute_result"
    }
   ],
   "source": [
    "a = np.zeros((8,8))\n",
    "a[::2, 1::2] = 1\n",
    "a[1::2, ::2] = 1\n",
    "a"
   ]
  }
 ],
 "metadata": {
  "kernelspec": {
   "display_name": "Python 3",
   "language": "python",
   "name": "python3"
  },
  "language_info": {
   "codemirror_mode": {
    "name": "ipython",
    "version": 3
   },
   "file_extension": ".py",
   "mimetype": "text/x-python",
   "name": "python",
   "nbconvert_exporter": "python",
   "pygments_lexer": "ipython3",
   "version": "3.13.1"
  }
 },
 "nbformat": 4,
 "nbformat_minor": 4
}
